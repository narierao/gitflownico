{
 "cells": [
  {
   "cell_type": "markdown",
   "id": "6230983d",
   "metadata": {},
   "source": [
    "### Leemos el archivo"
   ]
  },
  {
   "cell_type": "code",
   "execution_count": 9,
   "id": "49d428ac",
   "metadata": {},
   "outputs": [],
   "source": [
    "import json\n",
    "tweets = []\n",
    "for line in open('db.json', 'r'):\n",
    "    tweets.append(json.loads(line))"
   ]
  },
  {
   "cell_type": "markdown",
   "id": "18a54e75",
   "metadata": {},
   "source": [
    "### Obtenemos los 10 tweets más populares"
   ]
  },
  {
   "cell_type": "code",
   "execution_count": 16,
   "id": "05279c0a",
   "metadata": {},
   "outputs": [],
   "source": [
    "def get10popular(tweets):\n",
    "    return sorted(tweets, key=lambda x: int(x[\"retweetCount\"]), reverse=True)[:10]"
   ]
  }
 ],
 "metadata": {
  "kernelspec": {
   "display_name": "Python 3 (ipykernel)",
   "language": "python",
   "name": "python3"
  },
  "language_info": {
   "codemirror_mode": {
    "name": "ipython",
    "version": 3
   },
   "file_extension": ".py",
   "mimetype": "text/x-python",
   "name": "python",
   "nbconvert_exporter": "python",
   "pygments_lexer": "ipython3",
   "version": "3.9.7"
  }
 },
 "nbformat": 4,
 "nbformat_minor": 5
}
